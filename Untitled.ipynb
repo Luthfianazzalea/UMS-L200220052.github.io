{
 "cells": [
  {
   "cell_type": "code",
   "execution_count": 1,
   "id": "03621156-b036-43cc-893f-97a89cd7f6a5",
   "metadata": {},
   "outputs": [
    {
     "name": "stderr",
     "output_type": "stream",
     "text": [
      "C:\\Users\\acer\\AppData\\Local\\Temp\\ipykernel_3640\\1409612346.py:55: SettingWithCopyWarning: \n",
      "A value is trying to be set on a copy of a slice from a DataFrame.\n",
      "Try using .loc[row_indexer,col_indexer] = value instead\n",
      "\n",
      "See the caveats in the documentation: https://pandas.pydata.org/pandas-docs/stable/user_guide/indexing.html#returning-a-view-versus-a-copy\n",
      "  df_filtered_chat[f\"Cluster_{n_clusters}\"] = labels\n",
      "C:\\Users\\acer\\AppData\\Local\\Temp\\ipykernel_3640\\1409612346.py:55: SettingWithCopyWarning: \n",
      "A value is trying to be set on a copy of a slice from a DataFrame.\n",
      "Try using .loc[row_indexer,col_indexer] = value instead\n",
      "\n",
      "See the caveats in the documentation: https://pandas.pydata.org/pandas-docs/stable/user_guide/indexing.html#returning-a-view-versus-a-copy\n",
      "  df_filtered_chat[f\"Cluster_{n_clusters}\"] = labels\n",
      "C:\\Users\\acer\\AppData\\Local\\Temp\\ipykernel_3640\\1409612346.py:55: SettingWithCopyWarning: \n",
      "A value is trying to be set on a copy of a slice from a DataFrame.\n",
      "Try using .loc[row_indexer,col_indexer] = value instead\n",
      "\n",
      "See the caveats in the documentation: https://pandas.pydata.org/pandas-docs/stable/user_guide/indexing.html#returning-a-view-versus-a-copy\n",
      "  df_filtered_chat[f\"Cluster_{n_clusters}\"] = labels\n"
     ]
    },
    {
     "name": "stdout",
     "output_type": "stream",
     "text": [
      "\n",
      "Top terms per cluster (k=3):\n",
      "Cluster 0: mas, ga, makasih\n",
      "Cluster 1: kak, apa, siapp\n",
      "Cluster 2: halo, haloo, message\n",
      "\n",
      "Top terms per cluster (k=4):\n",
      "Cluster 0: mas, ga, makasih\n",
      "Cluster 1: kak, apa, siapp\n",
      "Cluster 2: hallo, aku, semuanya\n",
      "Cluster 3: halo, haloo, message\n",
      "\n",
      "Top terms per cluster (k=5):\n",
      "Cluster 0: mas, ga, makasih\n",
      "Cluster 1: kak, apa, siapp\n",
      "Cluster 2: hallo, aku, semuanya\n",
      "Cluster 3: halo, haloo, message\n",
      "Cluster 4: ya, yang, temen\n"
     ]
    },
    {
     "data": {
      "image/png": "[encoded data removed]",
      "text/plain": [
       "<Figure size 640x480 with 1 Axes>"
      ]
     },
     "metadata": {},
     "output_type": "display_data"
    }
   ],
   "source": [
    "# Import library yang diperlukan\n",
    "import re\n",
    "import pandas as pd\n",
    "from sklearn.feature_extraction.text import TfidfVectorizer\n",
    "from sklearn.cluster import KMeans\n",
    "import matplotlib.pyplot as plt\n",
    "\n",
    "# Membaca file chat\n",
    "file_path = \"_chat.txt\"\n",
    "with open(file_path, \"r\", encoding=\"utf-8\") as file:\n",
    "    chat_data = file.readlines()\n",
    "\n",
    "# Fungsi untuk membersihkan data\n",
    "def clean_chat_data(chat_lines):\n",
    "    cleaned_data = []\n",
    "    regex_pattern = r\"^\\[(.*?)\\] (.*?): (.*)$\"  # Pola: [timestamp] sender: message\n",
    "    for line in chat_lines:\n",
    "        match = re.match(regex_pattern, line)\n",
    "        if match:\n",
    "            timestamp, sender, message = match.groups()\n",
    "            cleaned_data.append({\n",
    "                \"Timestamp\": timestamp,\n",
    "                \"Sender\": sender.strip(),\n",
    "                \"Message\": message.strip()\n",
    "            })\n",
    "    return cleaned_data\n",
    "\n",
    "# Membersihkan data\n",
    "cleaned_chat = clean_chat_data(chat_data)\n",
    "df_chat = pd.DataFrame(cleaned_chat)\n",
    "\n",
    "# Memfilter pesan relevan\n",
    "def filter_relevant_messages(df):\n",
    "    system_messages_keywords = [\"created this group\", \"added\", \"removed\", \"Messages and calls are end-to-end encrypted\"]\n",
    "    return df[~df[\"Message\"].str.contains(\"|\".join(system_messages_keywords), na=False)]\n",
    "\n",
    "df_filtered_chat = filter_relevant_messages(df_chat)\n",
    "\n",
    "# Menyimpan data ke CSV\n",
    "df_filtered_chat.to_csv(\"data_group.csv\", index=False, encoding=\"utf-8\")\n",
    "\n",
    "# Clustering dengan kMeans\n",
    "# Menggunakan TF-IDF untuk mengubah teks menjadi fitur numerik\n",
    "vectorizer = TfidfVectorizer(stop_words=\"english\")\n",
    "X = vectorizer.fit_transform(df_filtered_chat[\"Message\"])\n",
    "\n",
    "# Menjalankan kMeans untuk 3 hingga 5 cluster\n",
    "clusters_range = [3, 4, 5]\n",
    "results = {}\n",
    "\n",
    "for n_clusters in clusters_range:\n",
    "    kmeans = KMeans(n_clusters=n_clusters, random_state=42)\n",
    "    kmeans.fit(X)\n",
    "    labels = kmeans.labels_\n",
    "    df_filtered_chat[f\"Cluster_{n_clusters}\"] = labels\n",
    "    results[n_clusters] = kmeans\n",
    "\n",
    "# Menampilkan 3 kata teratas untuk setiap cluster\n",
    "for n_clusters in clusters_range:\n",
    "    print(f\"\\nTop terms per cluster (k={n_clusters}):\")\n",
    "    order_centroids = results[n_clusters].cluster_centers_.argsort()[:, ::-1]\n",
    "    terms = vectorizer.get_feature_names_out()\n",
    "    for i in range(n_clusters):\n",
    "        print(f\"Cluster {i}: \", end=\"\")\n",
    "        print(\", \".join(terms[ind] for ind in order_centroids[i, :3]))\n",
    "\n",
    "# Menyimpan hasil clustering ke file CSV\n",
    "df_filtered_chat.to_csv(\"data_group_with_clusters.csv\", index=False, encoding=\"utf-8\")\n",
    "\n",
    "# Visualisasi (contoh dengan k=3)\n",
    "kmeans_3 = results[3]\n",
    "plt.scatter(X.toarray()[:, 0], X.toarray()[:, 1], c=kmeans_3.labels_, cmap=\"viridis\")\n",
    "plt.title(\"Clustering Visualization (k=3)\")\n",
    "plt.show()\n"
   ]
  },
  {
   "cell_type": "code",
   "execution_count": null,
   "id": "393a7137-e196-43ab-8a5b-e76d7bd0461d",
   "metadata": {},
   "outputs": [],
   "source": []
  }
 ],
 "metadata": {
  "kernelspec": {
   "display_name": "Python 3 (ipykernel)",
   "language": "python",
   "name": "python3"
  },
  "language_info": {
   "codemirror_mode": {
    "name": "ipython",
    "version": 3
   },
   "file_extension": ".py",
   "mimetype": "text/x-python",
   "name": "python",
   "nbconvert_exporter": "python",
   "pygments_lexer": "ipython3",
   "version": "3.12.4"
  }
 },
 "nbformat": 4,
 "nbformat_minor": 5
}
